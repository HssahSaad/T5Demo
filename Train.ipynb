{
 "cells": [
  {
   "cell_type": "code",
   "execution_count": 2,
   "metadata": {},
   "outputs": [
    {
     "name": "stdout",
     "output_type": "stream",
     "text": [
      "Collecting pandas\n",
      "  Downloading pandas-2.2.2-cp311-cp311-win_amd64.whl.metadata (19 kB)\n",
      "Collecting numpy>=1.23.2 (from pandas)\n",
      "  Downloading numpy-2.0.1-cp311-cp311-win_amd64.whl.metadata (60 kB)\n",
      "     ---------------------------------------- 0.0/60.9 kB ? eta -:--:--\n",
      "     ------ --------------------------------- 10.2/60.9 kB ? eta -:--:--\n",
      "     ------------------- ------------------ 30.7/60.9 kB 435.7 kB/s eta 0:00:01\n",
      "     ------------------------------- ------ 51.2/60.9 kB 518.5 kB/s eta 0:00:01\n",
      "     -------------------------------------- 60.9/60.9 kB 460.5 kB/s eta 0:00:00\n",
      "Requirement already satisfied: python-dateutil>=2.8.2 in c:\\users\\hessah\\onedrive\\desktop\\hssahsaad\\.conda\\lib\\site-packages (from pandas) (2.9.0)\n",
      "Collecting pytz>=2020.1 (from pandas)\n",
      "  Downloading pytz-2024.1-py2.py3-none-any.whl.metadata (22 kB)\n",
      "Collecting tzdata>=2022.7 (from pandas)\n",
      "  Downloading tzdata-2024.1-py2.py3-none-any.whl.metadata (1.4 kB)\n",
      "Requirement already satisfied: six>=1.5 in c:\\users\\hessah\\onedrive\\desktop\\hssahsaad\\.conda\\lib\\site-packages (from python-dateutil>=2.8.2->pandas) (1.16.0)\n",
      "Downloading pandas-2.2.2-cp311-cp311-win_amd64.whl (11.6 MB)\n",
      "   ---------------------------------------- 0.0/11.6 MB ? eta -:--:--\n",
      "   ---------------------------------------- 0.1/11.6 MB 3.2 MB/s eta 0:00:04\n",
      "   ---------------------------------------- 0.1/11.6 MB 1.7 MB/s eta 0:00:07\n",
      "    --------------------------------------- 0.2/11.6 MB 2.0 MB/s eta 0:00:06\n",
      "   - -------------------------------------- 0.5/11.6 MB 2.6 MB/s eta 0:00:05\n",
      "   -- ------------------------------------- 0.6/11.6 MB 2.6 MB/s eta 0:00:05\n",
      "   --- ------------------------------------ 1.0/11.6 MB 3.8 MB/s eta 0:00:03\n",
      "   ---- ----------------------------------- 1.2/11.6 MB 4.1 MB/s eta 0:00:03\n",
      "   ------- -------------------------------- 2.1/11.6 MB 6.2 MB/s eta 0:00:02\n",
      "   ------- -------------------------------- 2.2/11.6 MB 6.0 MB/s eta 0:00:02\n",
      "   -------- ------------------------------- 2.5/11.6 MB 5.8 MB/s eta 0:00:02\n",
      "   ----------- ---------------------------- 3.2/11.6 MB 6.9 MB/s eta 0:00:02\n",
      "   ------------- -------------------------- 4.0/11.6 MB 7.7 MB/s eta 0:00:01\n",
      "   ---------------- ----------------------- 4.9/11.6 MB 8.5 MB/s eta 0:00:01\n",
      "   -------------------- ------------------- 5.8/11.6 MB 9.3 MB/s eta 0:00:01\n",
      "   ---------------------- ----------------- 6.5/11.6 MB 9.9 MB/s eta 0:00:01\n",
      "   ------------------------- -------------- 7.3/11.6 MB 10.4 MB/s eta 0:00:01\n",
      "   ---------------------------- ----------- 8.2/11.6 MB 10.9 MB/s eta 0:00:01\n",
      "   ------------------------------ --------- 8.9/11.6 MB 11.4 MB/s eta 0:00:01\n",
      "   -------------------------------- ------- 9.6/11.6 MB 11.5 MB/s eta 0:00:01\n",
      "   ----------------------------------- ---- 10.2/11.6 MB 11.6 MB/s eta 0:00:01\n",
      "   ------------------------------------- -- 10.8/11.6 MB 14.6 MB/s eta 0:00:01\n",
      "   ---------------------------------------  11.4/11.6 MB 15.2 MB/s eta 0:00:01\n",
      "   ---------------------------------------- 11.6/11.6 MB 14.5 MB/s eta 0:00:00\n",
      "Downloading numpy-2.0.1-cp311-cp311-win_amd64.whl (16.6 MB)\n",
      "   ---------------------------------------- 0.0/16.6 MB ? eta -:--:--\n",
      "   - -------------------------------------- 0.7/16.6 MB 21.8 MB/s eta 0:00:01\n",
      "   --- ------------------------------------ 1.5/16.6 MB 15.5 MB/s eta 0:00:01\n",
      "   ----- ---------------------------------- 2.3/16.6 MB 16.7 MB/s eta 0:00:01\n",
      "   ------- -------------------------------- 2.9/16.6 MB 17.1 MB/s eta 0:00:01\n",
      "   -------- ------------------------------- 3.6/16.6 MB 15.4 MB/s eta 0:00:01\n",
      "   ---------- ----------------------------- 4.5/16.6 MB 15.2 MB/s eta 0:00:01\n",
      "   ------------- -------------------------- 5.4/16.6 MB 16.5 MB/s eta 0:00:01\n",
      "   -------------- ------------------------- 6.1/16.6 MB 15.5 MB/s eta 0:00:01\n",
      "   --------------- ------------------------ 6.5/16.6 MB 14.9 MB/s eta 0:00:01\n",
      "   ----------------- ---------------------- 7.2/16.6 MB 14.9 MB/s eta 0:00:01\n",
      "   ------------------- -------------------- 7.9/16.6 MB 14.5 MB/s eta 0:00:01\n",
      "   --------------------- ------------------ 8.8/16.6 MB 14.8 MB/s eta 0:00:01\n",
      "   ---------------------- ----------------- 9.3/16.6 MB 14.8 MB/s eta 0:00:01\n",
      "   ----------------------- ---------------- 9.6/16.6 MB 14.3 MB/s eta 0:00:01\n",
      "   ------------------------- -------------- 10.4/16.6 MB 14.5 MB/s eta 0:00:01\n",
      "   --------------------------- ------------ 11.4/16.6 MB 14.2 MB/s eta 0:00:01\n",
      "   ----------------------------- ---------- 12.3/16.6 MB 14.6 MB/s eta 0:00:01\n",
      "   ------------------------------- -------- 13.1/16.6 MB 14.6 MB/s eta 0:00:01\n",
      "   -------------------------------- ------- 13.7/16.6 MB 14.9 MB/s eta 0:00:01\n",
      "   ---------------------------------- ----- 14.3/16.6 MB 15.2 MB/s eta 0:00:01\n",
      "   ------------------------------------ --- 15.2/16.6 MB 14.6 MB/s eta 0:00:01\n",
      "   -------------------------------------- - 16.1/16.6 MB 14.9 MB/s eta 0:00:01\n",
      "   ---------------------------------------  16.6/16.6 MB 15.6 MB/s eta 0:00:01\n",
      "   ---------------------------------------- 16.6/16.6 MB 14.9 MB/s eta 0:00:00\n",
      "Downloading pytz-2024.1-py2.py3-none-any.whl (505 kB)\n",
      "   ---------------------------------------- 0.0/505.5 kB ? eta -:--:--\n",
      "   --------------------------------------- 505.5/505.5 kB 16.0 MB/s eta 0:00:00\n",
      "Downloading tzdata-2024.1-py2.py3-none-any.whl (345 kB)\n",
      "   ---------------------------------------- 0.0/345.4 kB ? eta -:--:--\n",
      "   --------------------------------------- 345.4/345.4 kB 10.5 MB/s eta 0:00:00\n",
      "Installing collected packages: pytz, tzdata, numpy, pandas\n",
      "Successfully installed numpy-2.0.1 pandas-2.2.2 pytz-2024.1 tzdata-2024.1\n",
      "Note: you may need to restart the kernel to use updated packages.\n"
     ]
    }
   ],
   "source": [
    "%pip install pandas"
   ]
  },
  {
   "cell_type": "code",
   "execution_count": 4,
   "metadata": {},
   "outputs": [],
   "source": [
    "import pandas as pd\n",
    "import numpy as np"
   ]
  },
  {
   "cell_type": "code",
   "execution_count": 5,
   "metadata": {},
   "outputs": [],
   "source": [
    "df = pd.read_csv('titanic.csv')"
   ]
  },
  {
   "cell_type": "code",
   "execution_count": 7,
   "metadata": {},
   "outputs": [
    {
     "data": {
      "text/plain": [
       "PassengerId      0\n",
       "Survived         0\n",
       "Pclass           0\n",
       "Name             0\n",
       "Sex              0\n",
       "Age            177\n",
       "SibSp            0\n",
       "Parch            0\n",
       "Ticket           0\n",
       "Fare             0\n",
       "Cabin          687\n",
       "Embarked         2\n",
       "dtype: int64"
      ]
     },
     "execution_count": 7,
     "metadata": {},
     "output_type": "execute_result"
    }
   ],
   "source": [
    "# Check for null values (1 line)\n",
    "df.isnull().sum()"
   ]
  },
  {
   "cell_type": "code",
   "execution_count": 10,
   "metadata": {},
   "outputs": [
    {
     "data": {
      "text/plain": [
       "0      S\n",
       "1      C\n",
       "2      S\n",
       "3      S\n",
       "4      S\n",
       "      ..\n",
       "886    S\n",
       "887    S\n",
       "888    S\n",
       "889    C\n",
       "890    Q\n",
       "Name: Embarked, Length: 891, dtype: object"
      ]
     },
     "execution_count": 10,
     "metadata": {},
     "output_type": "execute_result"
    }
   ],
   "source": [
    "# Fill null values for 'Embarked' with the mode(1 line)\n",
    "df['Embarked'].fillna(df['Embarked'].mode()[0] ,inplace=True)\n",
    "df['Embarked']"
   ]
  },
  {
   "cell_type": "code",
   "execution_count": 12,
   "metadata": {},
   "outputs": [],
   "source": [
    "# Drop rows with null values in 'Cabin' (or alternatively, you can fill it with a placeholder) (1 line)\n",
    "df= df.dropna(subset=['Cabin'])"
   ]
  },
  {
   "cell_type": "code",
   "execution_count": 13,
   "metadata": {},
   "outputs": [
    {
     "data": {
      "text/plain": [
       "PassengerId     0\n",
       "Survived        0\n",
       "Pclass          0\n",
       "Name            0\n",
       "Sex             0\n",
       "Age            19\n",
       "SibSp           0\n",
       "Parch           0\n",
       "Ticket          0\n",
       "Fare            0\n",
       "Cabin           0\n",
       "Embarked        0\n",
       "dtype: int64"
      ]
     },
     "execution_count": 13,
     "metadata": {},
     "output_type": "execute_result"
    }
   ],
   "source": [
    "# Check for duplicates (1 line)\n",
    "df.isnull().sum()"
   ]
  }
 ],
 "metadata": {
  "kernelspec": {
   "display_name": "Python 3",
   "language": "python",
   "name": "python3"
  },
  "language_info": {
   "codemirror_mode": {
    "name": "ipython",
    "version": 3
   },
   "file_extension": ".py",
   "mimetype": "text/x-python",
   "name": "python",
   "nbconvert_exporter": "python",
   "pygments_lexer": "ipython3",
   "version": "3.11.9"
  }
 },
 "nbformat": 4,
 "nbformat_minor": 2
}
